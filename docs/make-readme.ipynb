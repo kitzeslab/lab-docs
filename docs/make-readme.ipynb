{
 "cells": [
  {
   "cell_type": "code",
   "execution_count": 1,
   "metadata": {},
   "outputs": [],
   "source": [
    "import os"
   ]
  },
  {
   "cell_type": "code",
   "execution_count": 2,
   "metadata": {},
   "outputs": [],
   "source": [
    "def list_non_hidden_dirs(directory_to_list):\n",
    "    return [d for d in os.listdir(directory_to_list) if os.path.isdir(os.path.join(directory_to_list, d)) and d[0] != '.']\n",
    "\n",
    "def list_md_files(directory_to_list):\n",
    "    return [f for f in os.listdir(directory_to_list) if f[-3:] == '.md']"
   ]
  },
  {
   "cell_type": "code",
   "execution_count": 3,
   "metadata": {},
   "outputs": [],
   "source": [
    "def dir_parse(text):\n",
    "    return text.replace('_', ' ')\n",
    "\n",
    "def file_parse(text):\n",
    "    txt_list = text.replace('_', ' ').split('.')[:-1]\n",
    "    return ''.join(txt_list)"
   ]
  },
  {
   "cell_type": "code",
   "execution_count": 4,
   "metadata": {},
   "outputs": [],
   "source": [
    "docs_dir = './' \n",
    "ds = list_non_hidden_dirs(docs_dir)\n",
    "toc_lines = []\n",
    "for d in ds:\n",
    "    d_text = dir_parse(d)\n",
    "    rel_d = os.path.join(docs_dir, d)\n",
    "    toc_lines.append(f'    * {d_text}')\n",
    "    md_files = list_md_files(rel_d)\n",
    "    for file in md_files:\n",
    "        toc_lines.append(f'        * [{file_parse(file)}]({os.path.join(d, file)})')"
   ]
  },
  {
   "cell_type": "code",
   "execution_count": 5,
   "metadata": {},
   "outputs": [
    {
     "data": {
      "text/plain": [
       "['    * Deployment protocols',\n",
       " '        * [Data storage and transfer](Deployment_protocols/Data_storage_and_transfer.md)',\n",
       " '    * Reference materials',\n",
       " '        * [Using git](Reference_materials/Using_git.md)',\n",
       " '        * [Using the shell](Reference_materials/Using_the_shell.md)',\n",
       " '        * [Code style notes](Reference_materials/Code_style_notes.md)',\n",
       " '        * [Computing how-tos](Reference_materials/Computing_how-tos.md)',\n",
       " '    * Setup materials',\n",
       " '        * [Robin setup](Setup_materials/Robin_setup.md)',\n",
       " '        * [New lab member setup](Setup_materials/New_lab_member_setup.md)']"
      ]
     },
     "execution_count": 5,
     "metadata": {},
     "output_type": "execute_result"
    }
   ],
   "source": [
    "toc_lines"
   ]
  },
  {
   "cell_type": "code",
   "execution_count": 6,
   "metadata": {},
   "outputs": [],
   "source": [
    "with open('../docs/index.md', 'w+') as f:\n",
    "    f.write('Table of contents')\n",
    "    f.write('\\n')\n",
    "    for line in toc_lines:\n",
    "        f.write(line)\n",
    "        f.write('\\n')"
   ]
  },
  {
   "cell_type": "code",
   "execution_count": null,
   "metadata": {},
   "outputs": [],
   "source": []
  }
 ],
 "metadata": {
  "kernelspec": {
   "display_name": "Python 3",
   "language": "python",
   "name": "python3"
  },
  "language_info": {
   "codemirror_mode": {
    "name": "ipython",
    "version": 3
   },
   "file_extension": ".py",
   "mimetype": "text/x-python",
   "name": "python",
   "nbconvert_exporter": "python",
   "pygments_lexer": "ipython3",
   "version": "3.6.9"
  }
 },
 "nbformat": 4,
 "nbformat_minor": 4
}
